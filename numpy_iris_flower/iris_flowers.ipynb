{
 "cells": [
  {
   "attachments": {},
   "cell_type": "markdown",
   "id": "acc137fd",
   "metadata": {},
   "source": [
    "<h1 align=center style=\"line-height:200%;font-family:vazir;color:#0099cc\">\n",
    "<font face=\"vazir\" color=\"#0099cc\">\n",
    "Iris Flower Dataset\n",
    "</font>\n",
    "</h1>"
   ]
  },
  {
   "attachments": {},
   "cell_type": "markdown",
   "id": "99cd4e8f",
   "metadata": {},
   "source": [
    "<h2 align=left style=\"line-height:200%;font-family:vazir;color:#0099cc\">\n",
    "<font face=\"vazir\" color=\"#0099cc\">\n",
    "The Dataset</font>\n",
    "</h2>\n",
    "\n",
    "<p style=\"text-align: justify;line-height:200%;font-size:medium\">\n",
    "<a href=\"https://en.wikipedia.org/wiki/Iris_flower_data_set\" target=\"_blank\" style=\"color:#0099cc\">Iris Flower dataset</a> includes the characteristics of 150 iris flowers. Each of these flowers belongs to one of the three types of iris: Iris setosa, Iris versicolor and Iris virginica. Also, the characteristics of each flower include the length and width of the sepal and petal. Using these characteristics, we can imagine each flower as a point in a four-dimensional space, where these four quantities determine the coordinates of that point.\n",
    "</p>\n",
    "\n",
    "\n",
    "<center>\n",
    "<div style=\"max-width: 900px\">\n",
    "<img src=\"img/iris_types_en.png\">\n",
    "</div>\n",
    "</center>\n",
    "\n",
    "<p  style=\"text-align: justify;line-height:200%;font-family:vazir;font-size:medium\">\n",
    "<font face=\"vazir\" size=3>\n",
    "The specifications of 120 iris flowers are stored in a file called <code>irises.npy</code>. When this file is read, a 120 x 4 array is created as shown in the figure below, each row of which shows the characteristics of a flower (sepal length, sepal width, petal length and petal width in cm).\n",
    "</font>\n",
    "</p>\n",
    "\n",
    "\n",
    "\n",
    "<center>\n",
    "<div style=\"max-width: 700px\">\n",
    "<img src=\"img/fig_irises.png\">\n",
    "</div>\n",
    "</center>"
   ]
  },
  {
   "cell_type": "code",
   "execution_count": 1,
   "id": "2b198b84",
   "metadata": {},
   "outputs": [],
   "source": [
    "import numpy as np"
   ]
  },
  {
   "cell_type": "code",
   "execution_count": 2,
   "id": "26d1efb5",
   "metadata": {},
   "outputs": [
    {
     "name": "stdout",
     "output_type": "stream",
     "text": [
      "(120, 4)\n"
     ]
    }
   ],
   "source": [
    "irises = np.load('irises.npy')\n",
    "print(irises.shape)"
   ]
  },
  {
   "attachments": {},
   "cell_type": "markdown",
   "id": "711be10b",
   "metadata": {},
   "source": [
    "\n",
    "<p style=\"text-align: justify;line-height:200%;font-family:vazir;font-size:medium\">\n",
    "<font face=\"vazir\" size=3>\n",
    "On the other hand, the type of these flowers (setosa, versicolor, or virginica) is stored numerically in another file called <code>types.npy</code>. The values of this array are in the form of <code>0</code>، <code>1</code> and <code>2</code>, which represent the type of setosa iris, versicolor iris, and virginica iris, respectively.\n",
    "</font>\n",
    "</p>\n"
   ]
  },
  {
   "cell_type": "code",
   "execution_count": 3,
   "id": "f6c55d30",
   "metadata": {},
   "outputs": [
    {
     "name": "stdout",
     "output_type": "stream",
     "text": [
      "(120,)\n"
     ]
    }
   ],
   "source": [
    "types = np.load('types.npy')\n",
    "print(types.shape)"
   ]
  },
  {
   "attachments": {},
   "cell_type": "markdown",
   "id": "3401f7ed",
   "metadata": {},
   "source": [
    "<p  style=\";text-align: justify;line-height:200%;font-family:vazir;font-size:medium\">\n",
    "<font face=\"vazir\" size=3>\n",
    "In this project, I am going to implement an algorithm that will predict iris's type by receiving its characteristics. This prediction will be done with the help of samples which type we already know. These are the training data.\n",
    "<br>\n",
    "The specifications of 30 other iris flowers whose type we do not know and we are going to predict their type with the help of the k-NN algorithm are provided in another file called <code>new_irises.npz</code>. When this file is read, a 30 x 4 array is created as shown in the figure below, each row of which shows the characteristics of a flower. These are the test data.\n",
    "</font>\n",
    "</p>\n",
    "<center>\n",
    "<div style=\"max-width: 700px\">\n",
    "<img src=\"img/fig_new_irises.png\">\n",
    "</div>\n",
    "</center>"
   ]
  },
  {
   "cell_type": "code",
   "execution_count": 4,
   "id": "d72e445e",
   "metadata": {},
   "outputs": [
    {
     "name": "stdout",
     "output_type": "stream",
     "text": [
      "(30, 4)\n"
     ]
    }
   ],
   "source": [
    "new_irises = np.load('new_irises.npy')\n",
    "print(new_irises.shape)"
   ]
  },
  {
   "attachments": {},
   "cell_type": "markdown",
   "id": "a2cffc36",
   "metadata": {},
   "source": [
    "<p  style=\"text-align: justify;line-height:200%;font-family:vazir;font-size:medium\">\n",
    "<font face=\"vazir\" size=3>\n",
    "Now let's call the number of training samples <code>n</code> and the number of test samples <code>m</code> and store them in variables with the same name.\n",
    "</font>\n",
    "</p>"
   ]
  },
  {
   "cell_type": "code",
   "execution_count": 5,
   "id": "524e1890",
   "metadata": {},
   "outputs": [
    {
     "name": "stdout",
     "output_type": "stream",
     "text": [
      "Number of training samples (n): 120\n",
      "Number of test samples (m): 30\n"
     ]
    }
   ],
   "source": [
    "n, m = len(irises), len(new_irises)\n",
    "print(\"Number of training samples (n):\", n)\n",
    "print(\"Number of test samples (m):\", m)"
   ]
  },
  {
   "attachments": {},
   "cell_type": "markdown",
   "id": "cf4c3d98",
   "metadata": {},
   "source": [
    "<h2 style=\"line-height:200%;font-family:vazir;color:#0099cc\">\n",
    "<font face=\"vazir\" color=\"#0099cc\">\n",
    "KNN Algorithm</font>\n",
    "</h2>\n",
    "\n",
    "<p style=\"text-align: justify;line-height:200%;font-family:vazir;font-size:medium\">\n",
    "<font face=\"vazir\" size=3>\n",
    "Suppose you are given the characteristics of a iris flower and you are supposed to recognize its type. Probably, the first idea that comes to your mind is to measure its similarity with flowers whose types you know and predict its type based on this similarity. Suppose you have found 3 flowers that are most similar to this flower. Now you know that out of these 3 flowers, for example, 2 are Virginia type flowers and 1 is setosa flower. You must also agree that according to the majority vote, it is more likely that our flower is of the Virginia type. So we declare this as our prediction.\n",
    "<br>\n",
    "This is exactly what the k-NN algorithm does. Of course, in this algorithm, instead of finding the greatest similarity, the smallest distance (difference) is usually calculated. The steps of this algorithm are as follows:\n",
    "<ol>\n",
    "<li>First, we calculate the distance of the test sample with all the training samples.</li>\n",
    "<li>Then we find <code>k</code> training samples that have the smallest distance with our test sample.</li>\n",
    "<li>Now we check which type these <code>k</code> samples mostly belonged to? We declare the same type as our prediction for the test instance.</li>\n",
    "</ol>\n",
    "</font>\n",
    "</p>\n",
    "\n",
    "<p style=\"text-align: justify;line-height:200%;font-family:vazir;font-size:medium\">\n",
    "<font face=\"vazir\" size=3>\n",
    "Now let's start and implement each step of this algorithm with the help of numpy.\n",
    "</font>\n",
    "</p>"
   ]
  },
  {
   "attachments": {},
   "cell_type": "markdown",
   "id": "1f317485",
   "metadata": {},
   "source": [
    "<h2   style=\"line-height:200%;font-family:vazir;color:#0099cc\">\n",
    "<font face=\"vazir\" color=\"#0099cc\">\n",
    "Part 1: Calculation of distances\n",
    "</font>\n",
    "</h2>\n",
    "\n",
    "<p  style=\"text-align: justify;line-height:200%;font-family:vazir;font-size:medium\">\n",
    "<font face=\"vazir\" size=3>\n",
    "First, we are going to code a function that calculates the distance of each of the samples/rows of an array such as <code>new_points</code> with each of the samples/rows of another array such as <code>points</code>. For example, if we have 120 training samples and 30 test samples, we must calculate the distance between each of the test samples and each of the training samples, so our output will have dimensions of 30 x 120. For example, the first row of this matrix, which is shown in the right figure below, includes the distance of the first test sample with each of the training samples.\n",
    "</font>\n",
    "</p>\n",
    "\n",
    "<center>\n",
    "<div style=\"max-width: 1000px\">\n",
    "<img src=\"img/fig.png\">\n",
    "</div>\n",
    "</center>\n",
    "\n",
    "<p  style=\"text-align: justify;line-height:200%;font-family:vazir;font-size:medium\">\n",
    "<font face=\"vazir\" size=3>\n",
    "To calculate the distance between two points <code>p</code> and <code>q</code> with <code>f</code> feature, we will use the following formula:\n",
    "</font>\n",
    "</p>\n",
    "\n",
    "$$ d(p,q) = {\\sum_{i=0}^{f-1} (p_i - q_i)^2} $$\n",
    "\n",
    "<p style=\"text-align: justify;line-height:200%;font-family:vazir;font-size:medium\">\n",
    "<font face=\"vazir\" size=3>\n",
    "In this example, <code>f</code> is equal to <code>4</code>. That is, to calculate the distance between two samples, it is enough to subtract the width of the sepals and multiply them to the power of 2, then do the same for the length of the sepals, the width of the petals, and the length of the petals and add the results for all four features together.\n",
    "There are different methods to calculate the distance between the components of two arrays, and we will try 3 different approaches.\n",
    "</font>\n",
    "</p>."
   ]
  },
  {
   "attachments": {},
   "cell_type": "markdown",
   "id": "3b911f04",
   "metadata": {},
   "source": [
    "<h3  style=\"line-height:200%;font-family:vazir;color:#0099cc\">\n",
    "<font face=\"vazir\" color=\"#0099cc\">\n",
    "Two loops approach\n",
    "</font>\n",
    "</h3>\n",
    "\n",
    "\n",
    "<p  style=\"text-align: justify;line-height:200%;font-family:vazir;font-size:medium\">\n",
    "<font face=\"vazir\" size=3>\n",
    "First, we want to do this simply with the help of two <code>for</code> loops. In this method, we code a loop on the test samples and inside it we code a loop on the training samples so that for each test sample, the distance value with each of the training samples is calculated.\n",
    "<br>\n",
    "In the following function, we code an expression that calculates the distance between the two points <code>new_points[i]</code> and <code>points[j]</code> using the above formula.\n",
    "<br>\n",
    "</font>\n",
    "</p>"
   ]
  },
  {
   "cell_type": "code",
   "execution_count": 6,
   "id": "bbace2d7",
   "metadata": {},
   "outputs": [],
   "source": [
    "def calc_two_loops(new_points, points):\n",
    "    \n",
    "    #‌ m is the number of new points (test samples)\n",
    "    m = len(new_points)\n",
    "    # n is the number of points (training samples)\n",
    "    n = len(points)\n",
    "    # Distance matrix\n",
    "    d = np.zeros((m, n))\n",
    "    \n",
    "    # For each new point\n",
    "    for i in range(m):\n",
    "        # For each point\n",
    "        for j in range(n):\n",
    "            # Calculate the distance between the two points\n",
    "            d[i, j] = np.sum(np.square(new_points[i] - points[j]))\n",
    "            \n",
    "    return d"
   ]
  },
  {
   "cell_type": "code",
   "execution_count": 7,
   "id": "282f9b9c",
   "metadata": {},
   "outputs": [
    {
     "name": "stdout",
     "output_type": "stream",
     "text": [
      "(30, 120)\n"
     ]
    }
   ],
   "source": [
    "d2 = calc_two_loops(new_irises, irises)\n",
    "print(d2.shape)"
   ]
  },
  {
   "attachments": {},
   "cell_type": "markdown",
   "id": "3710e4d2",
   "metadata": {},
   "source": [
    "<h3  style=\"line-height:200%;font-family:vazir;color:#0099cc\">\n",
    "<font face=\"vazir\" color=\"#0099cc\">\n",
    "One loop approach\n",
    "</font>\n",
    "</h3>\n",
    "\n",
    "\n",
    "<p  style=\"text-align: justify;line-height:200%;font-family:vazir;font-size:medium\">\n",
    "<font face=\"vazir\" size=3>\n",
    "Now we want to use the broadcasting and rearranging feature of the arrays and remove each of the loops respectively. In this part, we want to remove the inner loop and calculate the distance of each test sample simultaneously with all the training samples with the help of the broadcasting feature of the array. So, in the following function,we'll write a block of code that calculates the distance between all the training samples and the test sample <code>new_points[i]</code>.\n",
    "<br>\n",
    "</font>\n",
    "</p>"
   ]
  },
  {
   "cell_type": "code",
   "execution_count": 8,
   "id": "021a9f1c",
   "metadata": {},
   "outputs": [],
   "source": [
    "def calc_one_loop(new_points, points):\n",
    "    \n",
    "    #‌ m is the number of new points (test samples)\n",
    "    m = len(new_points)\n",
    "    # n is the number of points (training samples)\n",
    "    n = len(points)\n",
    "    # Distance matrix\n",
    "    d = np.zeros((m, n))\n",
    "    \n",
    "    # For each new point\n",
    "    for i in range(m):\n",
    "        # Calculate the distance between the new point and all the points\n",
    "        d[i] = np.sum(np.square(new_points[i] - points), axis=1)\n",
    "        \n",
    "    return d"
   ]
  },
  {
   "cell_type": "code",
   "execution_count": 9,
   "id": "4f7f3d42",
   "metadata": {},
   "outputs": [
    {
     "name": "stdout",
     "output_type": "stream",
     "text": [
      "(30, 120)\n"
     ]
    }
   ],
   "source": [
    "d1 = calc_one_loop(new_irises, irises)\n",
    "print(d1.shape)"
   ]
  },
  {
   "attachments": {},
   "cell_type": "markdown",
   "id": "e9af1fe4",
   "metadata": {},
   "source": [
    "<h3  style=\"line-height:200%;font-family:vazir;color:#0099cc\">\n",
    "<font face=\"vazir\" color=\"#0099cc\">\n",
    "No loops approach\n",
    "</font>\n",
    "</h3>\n",
    "\n",
    "\n",
    "<p  style=\"text-align: justify;line-height:200%;font-family:vazir;font-size:medium\">\n",
    "<font face=\"vazir\" size=3>\n",
    "Again, we use the properties of arrays and write only one line of code in the following function to output all the spaces.\n",
    "<br>\n",
    "It may seem complicated to construct an array of intervals without a loop. But using numpy functions instead of loop makes the code both faster and shorter.\n",
    "</font>\n",
    "</p>"
   ]
  },
  {
   "cell_type": "code",
   "execution_count": 10,
   "id": "f3e881e6",
   "metadata": {},
   "outputs": [],
   "source": [
    "def calc_no_loop(new_points, points):\n",
    "    return np.sum(np.square(new_points), axis=1).reshape(-1, 1) + np.sum(np.square(points), axis=1) - 2 * np.matmul(new_points, points.T)        "
   ]
  },
  {
   "cell_type": "code",
   "execution_count": 11,
   "id": "5091f442",
   "metadata": {},
   "outputs": [
    {
     "name": "stdout",
     "output_type": "stream",
     "text": [
      "(30, 120)\n"
     ]
    }
   ],
   "source": [
    "d = calc_no_loop(new_irises, irises)\n",
    "print(d.shape)"
   ]
  },
  {
   "attachments": {},
   "cell_type": "markdown",
   "id": "7ca46ad9",
   "metadata": {},
   "source": [
    "<h3 style=\"line-height:200%;font-family:vazir;color:#0099cc\">\n",
    "<font face=\"vazir\" color=\"#0099cc\">\n",
    "Making Sure it works!\n",
    "🧐\n",
    "</font>\n",
    "</h3>\n",
    "\n",
    "<p style=\"text-align: justify;line-height:200%;font-family:vazir;font-size:medium\">\n",
    "<font face=\"vazir\" size=3>\n",
    "Calculating the distance array in the above three ways should not make any difference in the result. Therefore, we run the following code to make sure that the output of the above three functions is equal. From now on, we will use the <code>d</code> array as the distance array.\n",
    "</font>\n",
    "</p>"
   ]
  },
  {
   "cell_type": "code",
   "execution_count": 12,
   "id": "6b3eda6e",
   "metadata": {},
   "outputs": [
    {
     "name": "stdout",
     "output_type": "stream",
     "text": [
      "Fine!\n"
     ]
    }
   ],
   "source": [
    "if np.allclose(d, d1, 1e-5) and np.allclose(d, d2, 1e-5) and np.allclose(d1, d2, 1e-5):\n",
    "    print('Fine!')\n",
    "else:\n",
    "    print('There is something wrong!')"
   ]
  },
  {
   "cell_type": "markdown",
   "id": "5938c2eb-1275-4972-a4b6-a8dece24b6f0",
   "metadata": {},
   "source": [
    "<h2  style=\"line-height:200%;font-family:vazir;color:#0099cc\">\n",
    "<font face=\"vazir\" color=\"#0099cc\">\n",
    "Finding nearest neighbor\n",
    "</font>\n",
    "</h2>\n",
    "\n",
    "<p style=\"text-align: justify;line-height:200%;font-family:vazir;font-size:medium\">\n",
    "<font face=\"vazir\" size=3>\n",
    "With the help of the implemented functions, we were able to calculate the distance of each test sample with each of the training samples and stored the result in <code>d</code>.\n",
    "     So, we have stored the distance between the test sample <code>new_irises[i]</code> and the training sample <code>irises[j]</code> in <code>d[i][j]</code>. Now, for each test sample, we need to find <code>k</code> training samples with the smallest distance to it. Note that we need to store the number of closest samples, not the distance value itself. Here, consider <code>k</code> equal to <code>10</code>, so the output array <code>k_nearest</code> will be a matrix of dimensions <code dir=ltr>(30, 10)</code>.\n",
    "</font>\n",
    "</p>"
   ]
  },
  {
   "cell_type": "code",
   "execution_count": 13,
   "id": "6619de84",
   "metadata": {},
   "outputs": [
    {
     "name": "stdout",
     "output_type": "stream",
     "text": [
      "[[  6  14   0  32  22  17  39  21  23  37]\n",
      " [ 10   1  30  24  20   2  36   3   6  28]\n",
      " [ 27  13   8  39   4  29  15  12  26  25]\n",
      " [ 14  17   0  39  37  22   8  32  26  13]\n",
      " [ 21  20  30   3   9  24   6  19  35   5]\n",
      " [ 10   1   2   3  38   5  36  30  24   9]\n",
      " [ 10   1  30  24  20   2  36   3   6  28]\n",
      " [  0   6  22  23  21  14   9  32  17  39]\n",
      " [ 39  35  17  22   4  21  37  19   8  16]\n",
      " [ 28   6  23   0  14  21  30  32  22   9]\n",
      " [ 47  73  69  61  52  51  41  60 101  58]\n",
      " [ 71  43  65  64  77  72  66  76  74  54]\n",
      " [ 71  65  74  64  66  77  76  54  57  49]\n",
      " [ 64  65  74  66  43  50  54  72  77  71]\n",
      " [ 78  60  47  41  73  52  63  57  51  59]\n",
      " [ 74  65  54  64  66  43  50  57  71  75]\n",
      " [ 77  71  44  53  72  76  49  97  56  63]\n",
      " [ 72  66  64  74  43  65  77  54  71  76]\n",
      " [ 77  74  44  72  71  76  54  66  43  53]\n",
      " [ 66  54  71  76  77  74  49  57  44  72]\n",
      " [ 90 103 106  96 112 115  93 110  83  80]\n",
      " [ 82  96 100 108  94 115 112 105  80  84]\n",
      " [111  92  97 117  81 114 102  91 101  56]\n",
      " [107  67  81 117  58 114  91  99  55  70]\n",
      " [110  82  90  92  96 115  93 109 112 103]\n",
      " [100 104  82  86  96  93  90  87 115 110]\n",
      " [107  83  87  89  67  93  58 110  81 114]\n",
      " [113  90 118 112 116  96  93  82  88  92]\n",
      " [115  96 112 109  80  90  92 116 119 106]\n",
      " [114 102 111  81  97  67  56 107  99 101]]\n"
     ]
    }
   ],
   "source": [
    "k = 10\n",
    "k_nearest = np.argpartition(d1, k, axis=1)[:, :k]\n",
    "print(k_nearest)"
   ]
  },
  {
   "attachments": {},
   "cell_type": "markdown",
   "id": "4f32a9ad",
   "metadata": {},
   "source": [
    "<h2  style=\"line-height:200%;font-family:vazir;color:#0099cc\">\n",
    "<font face=\"vazir\" color=\"#0099cc\">\n",
    "Finding K nearest type\n",
    "</font>\n",
    "</h2>\n",
    "\n",
    "<p style=\"text-align: justify;line-height:200%;font-family:vazir;font-size:medium\">\n",
    "<font face=\"vazir\" size=3>\n",
    "Now we have the index of the nearest neighbors (training samples) for each test sample in the <code>k_nearest</code> array. But we are looking for the type of each of them. In order to replace the type of that flower instead of each index, we can use the <code>types</code> array. We do this in one line and value the ‌<code>k_nearest_types</code> variable.\n",
    "</font>\n",
    "</p>"
   ]
  },
  {
   "cell_type": "code",
   "execution_count": 14,
   "id": "b60f862c",
   "metadata": {},
   "outputs": [
    {
     "data": {
      "text/plain": [
       "array([[0, 0, 0, 0, 0, 0, 0, 0, 0, 0],\n",
       "       [0, 0, 0, 0, 0, 0, 0, 0, 0, 0],\n",
       "       [0, 0, 0, 0, 0, 0, 0, 0, 0, 0],\n",
       "       [0, 0, 0, 0, 0, 0, 0, 0, 0, 0],\n",
       "       [0, 0, 0, 0, 0, 0, 0, 0, 0, 0],\n",
       "       [0, 0, 0, 0, 0, 0, 0, 0, 0, 0],\n",
       "       [0, 0, 0, 0, 0, 0, 0, 0, 0, 0],\n",
       "       [0, 0, 0, 0, 0, 0, 0, 0, 0, 0],\n",
       "       [0, 0, 0, 0, 0, 0, 0, 0, 0, 0],\n",
       "       [0, 0, 0, 0, 0, 0, 0, 0, 0, 0],\n",
       "       [1, 1, 1, 1, 1, 1, 1, 1, 2, 1],\n",
       "       [1, 1, 1, 1, 1, 1, 1, 1, 1, 1],\n",
       "       [1, 1, 1, 1, 1, 1, 1, 1, 1, 1],\n",
       "       [1, 1, 1, 1, 1, 1, 1, 1, 1, 1],\n",
       "       [1, 1, 1, 1, 1, 1, 1, 1, 1, 1],\n",
       "       [1, 1, 1, 1, 1, 1, 1, 1, 1, 1],\n",
       "       [1, 1, 1, 1, 1, 1, 1, 2, 1, 1],\n",
       "       [1, 1, 1, 1, 1, 1, 1, 1, 1, 1],\n",
       "       [1, 1, 1, 1, 1, 1, 1, 1, 1, 1],\n",
       "       [1, 1, 1, 1, 1, 1, 1, 1, 1, 1],\n",
       "       [2, 2, 2, 2, 2, 2, 2, 2, 2, 2],\n",
       "       [2, 2, 2, 2, 2, 2, 2, 2, 2, 2],\n",
       "       [2, 2, 2, 2, 2, 2, 2, 2, 2, 1],\n",
       "       [2, 1, 2, 2, 1, 2, 2, 2, 1, 1],\n",
       "       [2, 2, 2, 2, 2, 2, 2, 2, 2, 2],\n",
       "       [2, 2, 2, 2, 2, 2, 2, 2, 2, 2],\n",
       "       [2, 2, 2, 2, 1, 2, 1, 2, 2, 2],\n",
       "       [2, 2, 2, 2, 2, 2, 2, 2, 2, 2],\n",
       "       [2, 2, 2, 2, 2, 2, 2, 2, 2, 2],\n",
       "       [2, 2, 2, 2, 2, 1, 1, 2, 2, 2]], dtype=int64)"
      ]
     },
     "execution_count": 14,
     "metadata": {},
     "output_type": "execute_result"
    }
   ],
   "source": [
    "k_nearest_types = types[k_nearest]\n",
    "k_nearest_types"
   ]
  },
  {
   "cell_type": "markdown",
   "id": "99ec4665-b152-4b99-9fee-2708b8cd23d2",
   "metadata": {},
   "source": [
    "<h2  style=\"line-height:200%;font-family:vazir;color:#0099cc\">\n",
    "<font face=\"vazir\" color=\"#0099cc\">\n",
    "Predicting new irises\n",
    "</font>\n",
    "</h2>\n",
    "\n",
    "<p  style=\"text-align: justify;line-height:200%;font-family:vazir;font-size:medium\">\n",
    "<font face=\"vazir\" size=3>\n",
    "Finally, we need to create an array named <code>predicted_types</code> of length <code>m</code>, where in <code>predicted_types[i]</code> the most frequent identifier in <code>k_nearest_types[i]</code> is placed as the predicted type identifier for <code>new_irises[i]</code>.\n",
    "     <br>\n",
    "     Since numpy doesn't directly have the (<code>mode</code>) function, we have done this with the help of the <code>mode</code> function that is inside the <code>scipy</code> library.\n",
    "</font>\n",
    "</p>"
   ]
  },
  {
   "cell_type": "code",
   "execution_count": 15,
   "id": "785a1c4d",
   "metadata": {},
   "outputs": [
    {
     "data": {
      "text/plain": [
       "array([0, 0, 0, 0, 0, 0, 0, 0, 0, 0, 1, 1, 1, 1, 1, 1, 1, 1, 1, 1, 2, 2,\n",
       "       2, 2, 2, 2, 2, 2, 2, 2], dtype=int64)"
      ]
     },
     "execution_count": 15,
     "metadata": {},
     "output_type": "execute_result"
    }
   ],
   "source": [
    "from scipy import stats\n",
    "predicted_types = stats.mode(k_nearest_types, axis=1).mode.reshape(m)\n",
    "predicted_types"
   ]
  },
  {
   "cell_type": "code",
   "execution_count": null,
   "id": "1e89114f-dd63-4852-a2e3-f92b14b5bb73",
   "metadata": {},
   "outputs": [],
   "source": []
  }
 ],
 "metadata": {
  "kernelspec": {
   "display_name": "Python 3 (ipykernel)",
   "language": "python",
   "name": "python3"
  },
  "language_info": {
   "codemirror_mode": {
    "name": "ipython",
    "version": 3
   },
   "file_extension": ".py",
   "mimetype": "text/x-python",
   "name": "python",
   "nbconvert_exporter": "python",
   "pygments_lexer": "ipython3",
   "version": "3.9.12"
  },
  "vscode": {
   "interpreter": {
    "hash": "6a29b8f2e1e8b11f80c3820468461bcdbea6564508a235f61a46eeb59d48b308"
   }
  }
 },
 "nbformat": 4,
 "nbformat_minor": 5
}
